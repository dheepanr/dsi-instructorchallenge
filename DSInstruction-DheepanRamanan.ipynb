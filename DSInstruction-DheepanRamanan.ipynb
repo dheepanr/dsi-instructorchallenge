{
 "cells": [
  {
   "cell_type": "markdown",
   "metadata": {},
   "source": [
    "## Instructor Task\n",
    "\n",
    "## Part I - Logistic Regression\n",
    "\n",
    "### Dataset\n",
    "- Here is the [dataset](https://s3-us-west-2.amazonaws.com/ga-dat-2015-suneel/datasets/breast-cancer.csv)\n",
    "- Here is a [description](https://archive.ics.uci.edu/ml/machine-learning-databases/breast-cancer-wisconsin/wdbc.names) of the data. Ignore column 0 as it is merely the ID of a patient record."
   ]
  },
  {
   "cell_type": "markdown",
   "metadata": {},
   "source": [
    "### 1. Read in the data"
   ]
  },
  {
   "cell_type": "code",
   "execution_count": 1,
   "metadata": {
    "collapsed": true
   },
   "outputs": [],
   "source": [
    "import pandas as pd\n",
    "from functools import reduce"
   ]
  },
  {
   "cell_type": "code",
   "execution_count": 4,
   "metadata": {
    "collapsed": false
   },
   "outputs": [
    {
     "data": {
      "text/html": [
       "<div>\n",
       "<table border=\"1\" class=\"dataframe\">\n",
       "  <thead>\n",
       "    <tr style=\"text-align: right;\">\n",
       "      <th></th>\n",
       "      <th>0</th>\n",
       "      <th>1</th>\n",
       "      <th>2</th>\n",
       "      <th>3</th>\n",
       "      <th>4</th>\n",
       "      <th>5</th>\n",
       "      <th>6</th>\n",
       "      <th>7</th>\n",
       "      <th>8</th>\n",
       "      <th>9</th>\n",
       "      <th>...</th>\n",
       "      <th>22</th>\n",
       "      <th>23</th>\n",
       "      <th>24</th>\n",
       "      <th>25</th>\n",
       "      <th>26</th>\n",
       "      <th>27</th>\n",
       "      <th>28</th>\n",
       "      <th>29</th>\n",
       "      <th>30</th>\n",
       "      <th>31</th>\n",
       "    </tr>\n",
       "  </thead>\n",
       "  <tbody>\n",
       "    <tr>\n",
       "      <th>0</th>\n",
       "      <td>842302</td>\n",
       "      <td>M</td>\n",
       "      <td>17.99</td>\n",
       "      <td>10.38</td>\n",
       "      <td>122.80</td>\n",
       "      <td>1001.0</td>\n",
       "      <td>0.11840</td>\n",
       "      <td>0.27760</td>\n",
       "      <td>0.3001</td>\n",
       "      <td>0.14710</td>\n",
       "      <td>...</td>\n",
       "      <td>25.38</td>\n",
       "      <td>17.33</td>\n",
       "      <td>184.60</td>\n",
       "      <td>2019.0</td>\n",
       "      <td>0.1622</td>\n",
       "      <td>0.6656</td>\n",
       "      <td>0.7119</td>\n",
       "      <td>0.2654</td>\n",
       "      <td>0.4601</td>\n",
       "      <td>0.11890</td>\n",
       "    </tr>\n",
       "    <tr>\n",
       "      <th>1</th>\n",
       "      <td>842517</td>\n",
       "      <td>M</td>\n",
       "      <td>20.57</td>\n",
       "      <td>17.77</td>\n",
       "      <td>132.90</td>\n",
       "      <td>1326.0</td>\n",
       "      <td>0.08474</td>\n",
       "      <td>0.07864</td>\n",
       "      <td>0.0869</td>\n",
       "      <td>0.07017</td>\n",
       "      <td>...</td>\n",
       "      <td>24.99</td>\n",
       "      <td>23.41</td>\n",
       "      <td>158.80</td>\n",
       "      <td>1956.0</td>\n",
       "      <td>0.1238</td>\n",
       "      <td>0.1866</td>\n",
       "      <td>0.2416</td>\n",
       "      <td>0.1860</td>\n",
       "      <td>0.2750</td>\n",
       "      <td>0.08902</td>\n",
       "    </tr>\n",
       "    <tr>\n",
       "      <th>2</th>\n",
       "      <td>84300903</td>\n",
       "      <td>M</td>\n",
       "      <td>19.69</td>\n",
       "      <td>21.25</td>\n",
       "      <td>130.00</td>\n",
       "      <td>1203.0</td>\n",
       "      <td>0.10960</td>\n",
       "      <td>0.15990</td>\n",
       "      <td>0.1974</td>\n",
       "      <td>0.12790</td>\n",
       "      <td>...</td>\n",
       "      <td>23.57</td>\n",
       "      <td>25.53</td>\n",
       "      <td>152.50</td>\n",
       "      <td>1709.0</td>\n",
       "      <td>0.1444</td>\n",
       "      <td>0.4245</td>\n",
       "      <td>0.4504</td>\n",
       "      <td>0.2430</td>\n",
       "      <td>0.3613</td>\n",
       "      <td>0.08758</td>\n",
       "    </tr>\n",
       "    <tr>\n",
       "      <th>3</th>\n",
       "      <td>84348301</td>\n",
       "      <td>M</td>\n",
       "      <td>11.42</td>\n",
       "      <td>20.38</td>\n",
       "      <td>77.58</td>\n",
       "      <td>386.1</td>\n",
       "      <td>0.14250</td>\n",
       "      <td>0.28390</td>\n",
       "      <td>0.2414</td>\n",
       "      <td>0.10520</td>\n",
       "      <td>...</td>\n",
       "      <td>14.91</td>\n",
       "      <td>26.50</td>\n",
       "      <td>98.87</td>\n",
       "      <td>567.7</td>\n",
       "      <td>0.2098</td>\n",
       "      <td>0.8663</td>\n",
       "      <td>0.6869</td>\n",
       "      <td>0.2575</td>\n",
       "      <td>0.6638</td>\n",
       "      <td>0.17300</td>\n",
       "    </tr>\n",
       "    <tr>\n",
       "      <th>4</th>\n",
       "      <td>84358402</td>\n",
       "      <td>M</td>\n",
       "      <td>20.29</td>\n",
       "      <td>14.34</td>\n",
       "      <td>135.10</td>\n",
       "      <td>1297.0</td>\n",
       "      <td>0.10030</td>\n",
       "      <td>0.13280</td>\n",
       "      <td>0.1980</td>\n",
       "      <td>0.10430</td>\n",
       "      <td>...</td>\n",
       "      <td>22.54</td>\n",
       "      <td>16.67</td>\n",
       "      <td>152.20</td>\n",
       "      <td>1575.0</td>\n",
       "      <td>0.1374</td>\n",
       "      <td>0.2050</td>\n",
       "      <td>0.4000</td>\n",
       "      <td>0.1625</td>\n",
       "      <td>0.2364</td>\n",
       "      <td>0.07678</td>\n",
       "    </tr>\n",
       "  </tbody>\n",
       "</table>\n",
       "<p>5 rows × 32 columns</p>\n",
       "</div>"
      ],
      "text/plain": [
       "         0  1      2      3       4       5        6        7       8   \\\n",
       "0    842302  M  17.99  10.38  122.80  1001.0  0.11840  0.27760  0.3001   \n",
       "1    842517  M  20.57  17.77  132.90  1326.0  0.08474  0.07864  0.0869   \n",
       "2  84300903  M  19.69  21.25  130.00  1203.0  0.10960  0.15990  0.1974   \n",
       "3  84348301  M  11.42  20.38   77.58   386.1  0.14250  0.28390  0.2414   \n",
       "4  84358402  M  20.29  14.34  135.10  1297.0  0.10030  0.13280  0.1980   \n",
       "\n",
       "        9    ...        22     23      24      25      26      27      28  \\\n",
       "0  0.14710   ...     25.38  17.33  184.60  2019.0  0.1622  0.6656  0.7119   \n",
       "1  0.07017   ...     24.99  23.41  158.80  1956.0  0.1238  0.1866  0.2416   \n",
       "2  0.12790   ...     23.57  25.53  152.50  1709.0  0.1444  0.4245  0.4504   \n",
       "3  0.10520   ...     14.91  26.50   98.87   567.7  0.2098  0.8663  0.6869   \n",
       "4  0.10430   ...     22.54  16.67  152.20  1575.0  0.1374  0.2050  0.4000   \n",
       "\n",
       "       29      30       31  \n",
       "0  0.2654  0.4601  0.11890  \n",
       "1  0.1860  0.2750  0.08902  \n",
       "2  0.2430  0.3613  0.08758  \n",
       "3  0.2575  0.6638  0.17300  \n",
       "4  0.1625  0.2364  0.07678  \n",
       "\n",
       "[5 rows x 32 columns]"
      ]
     },
     "execution_count": 4,
     "metadata": {},
     "output_type": "execute_result"
    }
   ],
   "source": [
    "breastCancer = pd.read_csv(\"breast-cancer.csv\",header=None)\n",
    "breastCancer.head(5)"
   ]
  },
  {
   "cell_type": "code",
   "execution_count": 13,
   "metadata": {
    "collapsed": false
   },
   "outputs": [
    {
     "data": {
      "text/plain": [
       "(569, 31)"
      ]
     },
     "execution_count": 13,
     "metadata": {},
     "output_type": "execute_result"
    }
   ],
   "source": [
    "breastCancer.shape"
   ]
  },
  {
   "cell_type": "code",
   "execution_count": 13,
   "metadata": {
    "collapsed": false
   },
   "outputs": [],
   "source": [
    "#features extracted from below information\n",
    "'''\n",
    "radius (mean of distances from center to points on the perimeter)\n",
    "\tb) texture (standard deviation of gray-scale values)\n",
    "\tc) perimeter\n",
    "\td) area\n",
    "\te) smoothness (local variation in radius lengths)\n",
    "\tf) compactness (perimeter^2 / area - 1.0)\n",
    "\tg) concavity (severity of concave portions of the contour)\n",
    "\th) concave points (number of concave portions of the contour)\n",
    "\ti) symmetry \n",
    "\tj) fractal dimension (\"coastline approximation\" - 1)\n",
    "    \n",
    "The mean, standard error, and \"worst\" or largest (mean of the three\n",
    "largest values) of these features were computed for each image,\n",
    "resulting in 30 features.\n",
    "'''\n",
    "features = [\"radius\",\"texture\",\"perimeter\",\"area\",\"smoothness\",\"compactness\",\"concavity\",\"concave_points\",\"symmetry\",\"fractal_dimension\"]\n",
    "#since our feature set is small, I am going to go ahead and manually concatenate these varieties\n",
    "feature_means = [f+\"_mean\" for f in features]\n",
    "feature_SE = [f+\"_SE\" for f in features]\n",
    "feature_Worst = [f+\"_Worst\" for f in features]\n",
    "feature_cols = reduce(lambda x,y: x+y, [[\"patient_id\",\"diagnosis\"],feature_means,feature_SE,feature_Worst])\n",
    "\n",
    "breastCancer.columns = feature_cols\n",
    "breastCancer.set_index(\"patient_id\");"
   ]
  },
  {
   "cell_type": "markdown",
   "metadata": {},
   "source": [
    "### 2. Separate the data into feature and target"
   ]
  },
  {
   "cell_type": "code",
   "execution_count": 295,
   "metadata": {
    "collapsed": false
   },
   "outputs": [
    {
     "data": {
      "text/plain": [
       "Index(['radius_mean', 'texture_mean', 'perimeter_mean', 'area_mean',\n",
       "       'smoothness_mean', 'compactness_mean', 'concavity_mean',\n",
       "       'concave_points_mean', 'symmetry_mean', 'fractal_dimension_mean',\n",
       "       'radius_SE', 'texture_SE', 'perimeter_SE', 'area_SE', 'smoothness_SE',\n",
       "       'compactness_SE', 'concavity_SE', 'concave_points_SE', 'symmetry_SE',\n",
       "       'fractal_dimension_SE', 'radius_Worst', 'texture_Worst',\n",
       "       'perimeter_Worst', 'area_Worst', 'smoothness_Worst',\n",
       "       'compactness_Worst', 'concavity_Worst', 'concave_points_Worst',\n",
       "       'symmetry_Worst', 'fractal_dimension_Worst'],\n",
       "      dtype='object')"
      ]
     },
     "execution_count": 295,
     "metadata": {},
     "output_type": "execute_result"
    }
   ],
   "source": [
    "featuresData = breastCancer[feature_cols[2:]]\n",
    "target = breastCancer[\"diagnosis\"]\n",
    "featuresData.columns"
   ]
  },
  {
   "cell_type": "markdown",
   "metadata": {},
   "source": [
    "### 3. Create and evaluate using cross_val_score and 5 folds."
   ]
  },
  {
   "cell_type": "markdown",
   "metadata": {},
   "source": [
    "- What is the mean accuracy?\n",
    "- What is the standard deviation of accuracy?"
   ]
  },
  {
   "cell_type": "code",
   "execution_count": 334,
   "metadata": {
    "collapsed": true
   },
   "outputs": [],
   "source": [
    "from sklearn.linear_model import LogisticRegression \n",
    "\n",
    "LogReg = LogisticRegression()"
   ]
  },
  {
   "cell_type": "code",
   "execution_count": 335,
   "metadata": {
    "collapsed": false
   },
   "outputs": [],
   "source": [
    "scores  = CV(LogReg, featuresData, target, cv=5, scoring=\"accuracy\")"
   ]
  },
  {
   "cell_type": "code",
   "execution_count": 336,
   "metadata": {
    "collapsed": false
   },
   "outputs": [
    {
     "name": "stdout",
     "output_type": "stream",
     "text": [
      "The Mean Accuracy is 0.953 the Standard Deviation is 0.016\n"
     ]
    }
   ],
   "source": [
    "print((\"The Mean Accuracy is {0:0.3f} the Standard Deviation is {1:0.3f}\").format(scores.mean(), scores.std()))"
   ]
  },
  {
   "cell_type": "markdown",
   "metadata": {},
   "source": [
    "### 4. Get a classification report to identify type 1, type 2 errors. "
   ]
  },
  {
   "cell_type": "markdown",
   "metadata": {},
   "source": [
    "- Use train_test_split to run your model once, with a test size of 0.33\n",
    "- Make preidctions on the test set\n",
    "- Compare the predictions to the answers to determine the classification report"
   ]
  },
  {
   "cell_type": "code",
   "execution_count": 469,
   "metadata": {
    "collapsed": false
   },
   "outputs": [],
   "source": [
    "train, test = breastCancer.sample(frac=.67), breastCancer.drop(train.index)\n",
    "trainX, trainY = train[feature_cols[2:]], train[\"diagnosis\"]\n",
    "testX, testY = test[feature_cols[2:]], test[\"diagnosis\"]"
   ]
  },
  {
   "cell_type": "code",
   "execution_count": 470,
   "metadata": {
    "collapsed": false
   },
   "outputs": [
    {
     "data": {
      "text/plain": [
       "LogisticRegression(C=1.0, class_weight=None, dual=False, fit_intercept=True,\n",
       "          intercept_scaling=1, max_iter=100, multi_class='ovr', n_jobs=1,\n",
       "          penalty='l2', random_state=None, solver='liblinear', tol=0.0001,\n",
       "          verbose=0, warm_start=False)"
      ]
     },
     "execution_count": 470,
     "metadata": {},
     "output_type": "execute_result"
    }
   ],
   "source": [
    "LogReg.fit(trainX, trainY)"
   ]
  },
  {
   "cell_type": "code",
   "execution_count": 471,
   "metadata": {
    "collapsed": false
   },
   "outputs": [
    {
     "data": {
      "text/plain": [
       "array([[110,   8],\n",
       "       [  5,  65]])"
      ]
     },
     "execution_count": 471,
     "metadata": {},
     "output_type": "execute_result"
    }
   ],
   "source": [
    "from sklearn.metrics import confusion_matrix as CM\n",
    "from sklearn.metrics import f1_score\n",
    "ClassificationReport = CM(LogReg.predict(testX), testY)\n",
    "ClassificationReport"
   ]
  },
  {
   "cell_type": "code",
   "execution_count": 472,
   "metadata": {
    "collapsed": false
   },
   "outputs": [
    {
     "data": {
      "text/plain": [
       "0.90909090909090906"
      ]
     },
     "execution_count": 472,
     "metadata": {},
     "output_type": "execute_result"
    }
   ],
   "source": [
    "f1_score(LogReg.predict(testX), testY, pos_label=\"M\")"
   ]
  },
  {
   "cell_type": "markdown",
   "metadata": {},
   "source": [
    "### Type I and Type II Errors\n",
    "* There are 5 Type I Errors\n",
    "* There are 8 Type II Errors\n",
    "* The F1 Score (precision and recall combined score) is 91%"
   ]
  },
  {
   "cell_type": "markdown",
   "metadata": {},
   "source": [
    "### 5. Scale the data and see if that improves the score"
   ]
  },
  {
   "cell_type": "code",
   "execution_count": 473,
   "metadata": {
    "collapsed": false
   },
   "outputs": [
    {
     "data": {
      "text/plain": [
       "array([[113,   5],\n",
       "       [  2,  68]])"
      ]
     },
     "execution_count": 473,
     "metadata": {},
     "output_type": "execute_result"
    }
   ],
   "source": [
    "from sklearn.preprocessing import StandardScaler\n",
    "scaler = StandardScaler()\n",
    "trainScaledX = scaler.fit_transform(trainX)\n",
    "testScaledX = scaler.transform(testX)\n",
    "LogReg.fit(trainScaledX,trainY)\n",
    "ClassificationReport = CM(LogReg.predict(testScaledX), testY)\n",
    "ClassificationReport"
   ]
  },
  {
   "cell_type": "code",
   "execution_count": 474,
   "metadata": {
    "collapsed": false
   },
   "outputs": [
    {
     "data": {
      "text/plain": [
       "0.95104895104895115"
      ]
     },
     "execution_count": 474,
     "metadata": {},
     "output_type": "execute_result"
    }
   ],
   "source": [
    "f1_score(LogReg.predict(testScaledX), testY, pos_label=\"M\")"
   ]
  },
  {
   "cell_type": "markdown",
   "metadata": {},
   "source": [
    "### Type I and Type II Errors\n",
    "* There are 2 Type I Errors\n",
    "* There are 5 Type II Errors\n",
    "* The F1 Score (precision and recall combined score) is 95%\n",
    "* We see an overall improvement when we scale our data"
   ]
  },
  {
   "cell_type": "markdown",
   "metadata": {},
   "source": [
    "### 6. Tune the model using automated parametrics grid search via LogisticRegressionCV. Explain your intuition behind what is being tuned. "
   ]
  },
  {
   "cell_type": "code",
   "execution_count": 475,
   "metadata": {
    "collapsed": false
   },
   "outputs": [
    {
     "data": {
      "text/plain": [
       "GridSearchCV(cv=None, error_score='raise',\n",
       "       estimator=LogisticRegression(C=1.0, class_weight=None, dual=False, fit_intercept=True,\n",
       "          intercept_scaling=1, max_iter=100, multi_class='ovr', n_jobs=1,\n",
       "          penalty='l2', random_state=None, solver='liblinear', tol=0.0001,\n",
       "          verbose=0, warm_start=False),\n",
       "       fit_params={}, iid=True, n_jobs=1,\n",
       "       param_grid=[{'penalty': ['l1', 'l2'], 'C': [0.05, 0.1, 0.25, 0.5, 1, 10, 100, 1000]}],\n",
       "       pre_dispatch='2*n_jobs', refit=True, scoring='accuracy', verbose=0)"
      ]
     },
     "execution_count": 475,
     "metadata": {},
     "output_type": "execute_result"
    }
   ],
   "source": [
    "from sklearn.grid_search import GridSearchCV\n",
    "params = [\n",
    "  {'C': [0.05,0.1,0.25,0.5,1, 10, 100, 1000], 'penalty': ['l1','l2']}\n",
    " ]\n",
    "gs = GridSearchCV(LogReg,params,scoring=\"accuracy\")\n",
    "gs.fit(trainScaledX, trainY)"
   ]
  },
  {
   "cell_type": "code",
   "execution_count": 476,
   "metadata": {
    "collapsed": false
   },
   "outputs": [
    {
     "name": "stdout",
     "output_type": "stream",
     "text": [
      "{'penalty': 'l2', 'C': 0.25} 0.965879265092\n"
     ]
    },
    {
     "data": {
      "text/plain": [
       "array([[113,   6],\n",
       "       [  2,  67]])"
      ]
     },
     "execution_count": 476,
     "metadata": {},
     "output_type": "execute_result"
    }
   ],
   "source": [
    "print(gs.best_params_, gs.best_score_)\n",
    "CM(gs.predict(testScaledX),testY)"
   ]
  },
  {
   "cell_type": "markdown",
   "metadata": {},
   "source": [
    "#### Q: What should we do to prevent overfitting so our model generalizes well to the test data?"
   ]
  },
  {
   "cell_type": "markdown",
   "metadata": {
    "collapsed": true
   },
   "source": [
    "* Logistic regression attempts to minimize the error between what we are predicting with our model and our real value \n",
    "* However, since we have a small number of samples and a decent number of features, we run the risk of creating a model that optimizes too tightly to idiosyncrasies in our training data, and not being general enough to predict on real world data.\n",
    "* This phenomenon is known as overfitting.\n",
    "* One way to address this overfitting problem is to introduce a regularization penalty \n",
    "* Here we use l1 and l2 penalties\n",
    "    * l1 for sparse coefficients, IE some coefficients in our model become zero\n",
    "    * l2 for jointly shrinking coefficients, IE some highly correlated coeffiencts are jointly shrunk\n",
    "* C is the magnitude of the regularization penalty we are applying to our data\n",
    "* Smaller numbers mean harsher regularization, as the default C is 1, we are testing magnitutdes that are harsher and those that are less punitive\n",
    "\n",
    "\n",
    "* Note, we should also perform test/train splitting and cross validation on our models to reduce overfitting "
   ]
  },
  {
   "cell_type": "markdown",
   "metadata": {},
   "source": [
    "#### Q: What was the best C?"
   ]
  },
  {
   "cell_type": "markdown",
   "metadata": {
    "collapsed": true
   },
   "source": [
    "C = .25 performed the best"
   ]
  },
  {
   "cell_type": "markdown",
   "metadata": {},
   "source": [
    "### 7. Create Two Plots that describe the data and discuss your results"
   ]
  },
  {
   "cell_type": "code",
   "execution_count": 583,
   "metadata": {
    "collapsed": false
   },
   "outputs": [
    {
     "data": {
      "text/html": [
       "<div>\n",
       "<table border=\"1\" class=\"dataframe\">\n",
       "  <thead>\n",
       "    <tr style=\"text-align: right;\">\n",
       "      <th></th>\n",
       "      <th>Features</th>\n",
       "      <th>Coefficient</th>\n",
       "      <th>Absolute</th>\n",
       "    </tr>\n",
       "  </thead>\n",
       "  <tbody>\n",
       "    <tr>\n",
       "      <th>20</th>\n",
       "      <td>radius_Worst</td>\n",
       "      <td>0.648338</td>\n",
       "      <td>0.648</td>\n",
       "    </tr>\n",
       "    <tr>\n",
       "      <th>27</th>\n",
       "      <td>concave_points_Worst</td>\n",
       "      <td>0.630290</td>\n",
       "      <td>0.630</td>\n",
       "    </tr>\n",
       "    <tr>\n",
       "      <th>10</th>\n",
       "      <td>radius_SE</td>\n",
       "      <td>0.615102</td>\n",
       "      <td>0.615</td>\n",
       "    </tr>\n",
       "    <tr>\n",
       "      <th>7</th>\n",
       "      <td>concave_points_mean</td>\n",
       "      <td>0.601337</td>\n",
       "      <td>0.601</td>\n",
       "    </tr>\n",
       "    <tr>\n",
       "      <th>23</th>\n",
       "      <td>area_Worst</td>\n",
       "      <td>0.600772</td>\n",
       "      <td>0.601</td>\n",
       "    </tr>\n",
       "  </tbody>\n",
       "</table>\n",
       "</div>"
      ],
      "text/plain": [
       "                Features  Coefficient  Absolute\n",
       "20          radius_Worst     0.648338     0.648\n",
       "27  concave_points_Worst     0.630290     0.630\n",
       "10             radius_SE     0.615102     0.615\n",
       "7    concave_points_mean     0.601337     0.601\n",
       "23            area_Worst     0.600772     0.601"
      ]
     },
     "execution_count": 583,
     "metadata": {},
     "output_type": "execute_result"
    }
   ],
   "source": [
    "import numpy as np\n",
    "Coeff = pd.DataFrame(list(zip(trainX.columns,gs.best_estimator_.coef_[0])),columns=[\"Features\",\"Coefficient\"])\n",
    "Coeff[\"Absolute\"] = np.absolute(Coeff[\"Coefficient\"]).round(3)\n",
    "Coeff.sort_values(by=\"Absolute\",ascending=False).head(5)"
   ]
  },
  {
   "cell_type": "markdown",
   "metadata": {},
   "source": [
    "* There were the top 5 features as predicted by our logistic model"
   ]
  },
  {
   "cell_type": "code",
   "execution_count": 516,
   "metadata": {
    "collapsed": false
   },
   "outputs": [
    {
     "data": {
      "text/plain": [
       "<matplotlib.axes._subplots.AxesSubplot at 0x11ecdbe48>"
      ]
     },
     "execution_count": 516,
     "metadata": {},
     "output_type": "execute_result"
    },
    {
     "data": {
      "image/png": "[encoded data removed]",
      "text/plain": [
       "<matplotlib.figure.Figure at 0x11edda780>"
      ]
     },
     "metadata": {},
     "output_type": "display_data"
    }
   ],
   "source": [
    "import warnings\n",
    "import seaborn as sns\n",
    "import matplotlib.pyplot as plt\n",
    "%matplotlib inline\n",
    "plt.figure(figsize=(10,10))\n",
    "\n",
    "warnings.filterwarnings('ignore') \n",
    "'''\n",
    "note regarding the warning import, I am using a soon to be deprecated function in seaborn \n",
    "it's possible to do the same visualization with the heatmap plot, \n",
    "but this saves some fiddling with masking repeating values\n",
    "'''\n",
    "sns.plt.title('Correlation Plot of Features')\n",
    "sns.corrplot(featuresData.corr(), annot=False, diag_names=False)"
   ]
  },
  {
   "cell_type": "markdown",
   "metadata": {},
   "source": [
    "* Correlation Plots are often useful to visualize relationships between variables\n",
    "* With this visualization we can see positive and negative interactions for each of the features in our dataset\n",
    "* For example, \"Radius Worst\" the top coefficient in our linear model is positively correlated with perimeter means, and area means(this makes sense), but also with concave points mean and negatively correlated with fractal dimension means and smoothness SE\n",
    "* Correlation Plots are also useful in linearly seperated data (which our logistic regression model assumes), as variables may be \"confounding\" as in they are highly correlated with each other but not predictive alone\n",
    "* This can serve as a bit of a sanity check, and a reason to do some ANOVA filtering to reduce potentially spurious variables"
   ]
  },
  {
   "cell_type": "markdown",
   "metadata": {},
   "source": [
    "### Visualizing Our Top Coefficients"
   ]
  },
  {
   "cell_type": "code",
   "execution_count": 581,
   "metadata": {
    "collapsed": true
   },
   "outputs": [],
   "source": [
    "top5features = Coeff.sort_values(by=\"Absolute\",ascending=False).head(5).Features.tolist()"
   ]
  },
  {
   "cell_type": "code",
   "execution_count": 582,
   "metadata": {
    "collapsed": false
   },
   "outputs": [],
   "source": [
    "def binMap(x):\n",
    "    if x == 'M':\n",
    "        return 1\n",
    "    else:\n",
    "        return 0\n",
    "breastCancer['binaryDiagnosis'] = breastCancer.diagnosis.apply(lambda x: binMap(x))"
   ]
  },
  {
   "cell_type": "code",
   "execution_count": 585,
   "metadata": {
    "collapsed": false
   },
   "outputs": [],
   "source": [
    "top5 = breastCancer[top5features]\n",
    "top5df = pd.DataFrame(top5,columns=top5features).join(breastCancer['binaryDiagnosis'])"
   ]
  },
  {
   "cell_type": "code",
   "execution_count": 589,
   "metadata": {
    "collapsed": false
   },
   "outputs": [
    {
     "data": {
      "text/plain": [
       "<seaborn.axisgrid.FacetGrid at 0x12de96ba8>"
      ]
     },
     "execution_count": 589,
     "metadata": {},
     "output_type": "execute_result"
    },
    {
     "data": {
      "image/png": "[encoded data removed]",
      "text/plain": [
       "<matplotlib.figure.Figure at 0x12de962e8>"
      ]
     },
     "metadata": {},
     "output_type": "display_data"
    }
   ],
   "source": [
    "meltedBC = pd.melt(top5df, id_vars=['binaryDiagnosis'], var_name='Feature')\n",
    "sns.lmplot(x=\"value\", y=\"binaryDiagnosis\",col='Feature',data=meltedBC, y_jitter=.02, logistic=True,  size=7, sharex=False)"
   ]
  },
  {
   "cell_type": "code",
   "execution_count": 595,
   "metadata": {
    "collapsed": false
   },
   "outputs": [
    {
     "data": {
      "text/plain": [
       "1    121\n",
       "Name: binaryDiagnosis, dtype: int64"
      ]
     },
     "execution_count": 595,
     "metadata": {},
     "output_type": "execute_result"
    }
   ],
   "source": [
    "radiiMask = top5df[\"radius_Worst\"] >20 \n",
    "top5df[radiiMask==True].binaryDiagnosis.value_counts() "
   ]
  },
  {
   "cell_type": "code",
   "execution_count": 601,
   "metadata": {
    "collapsed": false
   },
   "outputs": [
    {
     "data": {
      "text/plain": [
       "1    0.570755\n",
       "Name: binaryDiagnosis, dtype: float64"
      ]
     },
     "execution_count": 601,
     "metadata": {},
     "output_type": "execute_result"
    }
   ],
   "source": [
    "top5df[radiiMask==True].binaryDiagnosis.value_counts()/ top5df.binaryDiagnosis.value_counts()[1]"
   ]
  },
  {
   "cell_type": "markdown",
   "metadata": {},
   "source": [
    "* Here I graphed the cumulative distribution function of our top 5 coefficients\n",
    "* These graphs show how an increase in one of these coefficients coresponds to an increase in probability to having a malignant tumor\n",
    "* Looking at these plots we can find good insights, such as if a tumor has a radius greater than 20, there is a **100% chance** \n",
    "it is a malignant tumor, which is why this feature was the strongest in our dataset\n",
    "* Tumor radius > 20, correctly identifies **57% of all true positive tumors**"
   ]
  },
  {
   "cell_type": "markdown",
   "metadata": {},
   "source": [
    "### 8. Provide a one-sentence summary for a non-technical audience. Then provide a longer paragraph-length technical explanation."
   ]
  },
  {
   "cell_type": "markdown",
   "metadata": {
    "collapsed": true
   },
   "source": [
    "### High Level\n",
    "* Using machine learning model called logistic regression, we can predict canerous tumors with 96.5% accuracy.\n",
    "\n",
    "### Technical Audience\n",
    "* Overall our logistic regression model with l2 penalty was 96.5% accurate in predicting which tumors are cancerous, the model incorrectly identified 5 false negatives in the test set.  \n",
    "* Although our model has good performance a false negative is highly undesirable in this context\n",
    "(cancerous tumors go undiagnosed!), so we should seek to improve this result. \n",
    "* Whenever encountering a supervised machine learning problem we need to consider if a linear model\n",
    "(logistic regression, SVM etc) is the most approriate solution. One of the requirements\n",
    "is that this model needs linearly seperately data. \n",
    "* Linearly seperatable data will be normally distributed, we can check our assumption on this dataset with a statistical test such as shapiro wilks.\n",
    "* We should try alternative methods, such as as random forests or certain neural networks which are non-parametic( does make assumptions regarding normally distributed data) to find better results\n",
    "* As we saw when we visualized the data, we have a lot of correlations with our features due to their construction.  For example, \"radius\" will be linked to \"perimeter\", and \"radius mean\" will be correlated to \"radius worst\", ANOVA filtering or a grid search could prune some of these features"
   ]
  },
  {
   "cell_type": "markdown",
   "metadata": {},
   "source": [
    "## Part II - Ensemble Methods\n",
    "\n",
    "### Dataset\n",
    "- Your dataset will be the breast cancer dataset. You can load it directly from scikit-learn using the load_breast_cancer function."
   ]
  },
  {
   "cell_type": "markdown",
   "metadata": {},
   "source": [
    "### 1. Read in the data"
   ]
  },
  {
   "cell_type": "code",
   "execution_count": 477,
   "metadata": {
    "collapsed": false
   },
   "outputs": [],
   "source": [
    "from sklearn.datasets import load_breast_cancer\n",
    "data = pd.DataFrame(load_breast_cancer()['data'])\n",
    "features = load_breast_cancer()['feature_names']\n",
    "target = load_breast_cancer()['target']\n",
    "data.columns = features"
   ]
  },
  {
   "cell_type": "markdown",
   "metadata": {},
   "source": [
    "### 2. Separate the data into feature and target"
   ]
  },
  {
   "cell_type": "code",
   "execution_count": 478,
   "metadata": {
    "collapsed": false
   },
   "outputs": [],
   "source": [
    "data, target;"
   ]
  },
  {
   "cell_type": "markdown",
   "metadata": {},
   "source": [
    "### 3. Build and initial model"
   ]
  },
  {
   "cell_type": "markdown",
   "metadata": {},
   "source": [
    "1. Initialize a Decision Tree Classifier and use cross_val_score to evaluate it's performance. Set crossvalidation to 5-folds\n",
    "2. Wrap a Bagging Classifier around the Decision Tree Classifier and use cross_val_score to evaluate it's performance. Set crossvalidation to 5-folds.\n",
    "3. Which score is better? Are the score significantly different? How can you judge that?"
   ]
  },
  {
   "cell_type": "code",
   "execution_count": 483,
   "metadata": {
    "collapsed": false
   },
   "outputs": [
    {
     "name": "stdout",
     "output_type": "stream",
     "text": [
      "The mean accuracy of the unbagged Decision Tree Model is 0.92, the bagged Decision Tree Model is 0.95\n",
      "The log loss of the unbagged model is -2.67 while the bagged model is -0.46\n"
     ]
    }
   ],
   "source": [
    "from sklearn.tree import DecisionTreeClassifier\n",
    "from sklearn.ensemble import BaggingClassifier\n",
    "\n",
    "DTclf = DecisionTreeClassifier(random_state=12)\n",
    "DTScores = CV(DTclf, data, target, cv=5,scoring=\"accuracy\")\n",
    "\n",
    "BaggingDT = BaggingClassifier(DecisionTreeClassifier(random_state=12))\n",
    "DTBagScores = CV(BaggingDT, data, target, cv=5,scoring=\"accuracy\")\n",
    "DTlogLoss, BaggingDTLogLoss = CV(DTclf, data, target, cv=5,scoring=\"log_loss\").mean(), CV(BaggingDT, data, target, cv=5,scoring=\"log_loss\").mean()\n",
    "\n",
    "print((\"The mean accuracy of the unbagged Decision Tree Model is {0:0.2f}, the bagged Decision Tree Model is {1:0.2f}\").format(DTScores.mean(),DTBagScores.mean()))\n",
    "print ((\"The log loss of the unbagged model is {0:0.2f} while the bagged model is {1:0.2f}\").format(DTlogLoss, BaggingDTLogLoss))"
   ]
  },
  {
   "cell_type": "markdown",
   "metadata": {},
   "source": [
    "* The accuracy of the bagged model is superior to the unbagged model\n",
    "* Where the difference is more visible is the log loss\n",
    "* Classification algorithims work to mimimize the cross-entropy difference between classes\n",
    "* Log Loss penalizes algorithims for over confidence, if we were wrong and very confident \n",
    "in a prediction this has a more severe penalty \n",
    "* Thus we can see our bagged Decision Tree model is superior"
   ]
  },
  {
   "cell_type": "markdown",
   "metadata": {},
   "source": [
    "### 4. Integrate your model into a pipeline"
   ]
  },
  {
   "cell_type": "code",
   "execution_count": 613,
   "metadata": {
    "collapsed": false
   },
   "outputs": [
    {
     "name": "stdout",
     "output_type": "stream",
     "text": [
      "0.957446808511\n"
     ]
    }
   ],
   "source": [
    "from sklearn.pipeline import Pipeline\n",
    "from sklearn.metrics import accuracy_score\n",
    "\n",
    "pipe = Pipeline([('transform',StandardScaler()),('clf',BaggingClassifier(DecisionTreeClassifier()))])\n",
    "pipe.fit(trainX,trainY)\n",
    "acc = accuracy_score(pipe.predict(testX),testY)\n",
    "print(acc)"
   ]
  },
  {
   "cell_type": "markdown",
   "metadata": {},
   "source": [
    "### 5. Evaluate your performance utilizing grid search with 5-fold cross validation. "
   ]
  },
  {
   "cell_type": "code",
   "execution_count": 612,
   "metadata": {
    "collapsed": false
   },
   "outputs": [
    {
     "name": "stdout",
     "output_type": "stream",
     "text": [
      "{'max_features': 13, 'bootstrap': True, 'n_estimators': 30} 0.965879265092\n"
     ]
    },
    {
     "data": {
      "text/plain": [
       "array([[113,   6],\n",
       "       [  2,  67]])"
      ]
     },
     "execution_count": 612,
     "metadata": {},
     "output_type": "execute_result"
    }
   ],
   "source": [
    "DTparam = [{'max_features': list(range(1,31)),'bootstrap':[True,False],'n_estimators':[10,20,30,50]}]\n",
    "DTGScv = GridSearchCV(BaggingClassifier(DecisionTreeClassifier()), DTparam,scoring=\"accuracy\",cv=5)\n",
    "DTGScv.fit(trainScaledX,trainY)\n",
    "print(DTGScv.best_params_, DTGScv.best_score_)\n",
    "CM(gs.predict(testScaledX),testY)"
   ]
  },
  {
   "cell_type": "markdown",
   "metadata": {},
   "source": [
    "* One of the results of the grid search is that we have reduced the number of features used to only 13, \n",
    "this makes some sense as standard error, mean, and \"worst\" exist  for 10 measures\n",
    "* Our overall accruacy on the training set improved slightly, our confusion matrix shows test results similar to the linear model"
   ]
  },
  {
   "cell_type": "code",
   "execution_count": null,
   "metadata": {
    "collapsed": true
   },
   "outputs": [],
   "source": []
  }
 ],
 "metadata": {
  "kernelspec": {
   "display_name": "Python 3",
   "language": "python",
   "name": "python3"
  },
  "language_info": {
   "codemirror_mode": {
    "name": "ipython",
    "version": 3
   },
   "file_extension": ".py",
   "mimetype": "text/x-python",
   "name": "python",
   "nbconvert_exporter": "python",
   "pygments_lexer": "ipython3",
   "version": "3.5.1"
  }
 },
 "nbformat": 4,
 "nbformat_minor": 0
}
